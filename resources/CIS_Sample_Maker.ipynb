{
 "cells": [
  {
   "cell_type": "markdown",
   "id": "5a46ca35",
   "metadata": {},
   "source": [
    "# CIS Sampling"
   ]
  },
  {
   "cell_type": "markdown",
   "id": "1912f831",
   "metadata": {},
   "source": [
    "### NOTE: Some text has been temporarily disabled using the 'comment' feature, This is to protect from accidental \"run all cells\" commands.\n",
    "### see following to enable for running.\n",
    "\n",
    "- Select all text and press [CNTRL + ?] \n",
    "*OR\n",
    "- remove # and extra spaces at beginning"
   ]
  },
  {
   "cell_type": "markdown",
   "id": "e3ae2c58",
   "metadata": {},
   "source": [
    "# ---------------------------------------------------"
   ]
  },
  {
   "cell_type": "code",
   "execution_count": 1,
   "id": "3d08f9e7",
   "metadata": {
    "scrolled": true
   },
   "outputs": [
    {
     "data": {
      "text/plain": [
       "'C:\\\\Users\\\\Alec\\\\Documents\\\\Programming Resources\\\\Boot Camp\\\\07_Git_Collab\\\\project1 - LOCAL'"
      ]
     },
     "execution_count": 1,
     "metadata": {},
     "output_type": "execute_result"
    }
   ],
   "source": [
    "import pandas as pd\n",
    "import os\n",
    "os.getcwd()"
   ]
  },
  {
   "cell_type": "markdown",
   "id": "beaac990",
   "metadata": {},
   "source": [
    "# File Paths"
   ]
  },
  {
   "cell_type": "code",
   "execution_count": 6,
   "id": "070d47ec",
   "metadata": {},
   "outputs": [],
   "source": [
    "infile = '..\\\\Too big for git bash\\\\CIS_Automotive_Kaggle_Sample.csv'"
   ]
  },
  {
   "cell_type": "code",
   "execution_count": 3,
   "id": "0d981f7c",
   "metadata": {},
   "outputs": [],
   "source": [
    "output01 = 'resources\\\\CIS_sample01.csv'\n",
    "output02 = 'resources\\\\CIS_sample02.csv'\n",
    "output03 = 'resources\\\\CIS_sample03.csv'\n",
    "output04 = 'resources\\\\CIS_sample04.csv'\n",
    "output05 = 'resources\\\\CIS_SMALL_sample05.csv'"
   ]
  },
  {
   "cell_type": "markdown",
   "id": "eb0e5df1",
   "metadata": {},
   "source": [
    "# ------------------------------------------------------"
   ]
  },
  {
   "cell_type": "markdown",
   "id": "58b013b4",
   "metadata": {},
   "source": [
    "# Use at computer's risk, lol."
   ]
  },
  {
   "cell_type": "code",
   "execution_count": 7,
   "id": "f076349e",
   "metadata": {},
   "outputs": [],
   "source": [
    "# read csv as DF\n",
    "\n",
    "# df = pd.read_csv(infile, low_memory=False)\n",
    "# df.head()"
   ]
  },
  {
   "cell_type": "code",
   "execution_count": 9,
   "id": "acb7419f",
   "metadata": {},
   "outputs": [],
   "source": [
    "# set a variable for the str values of the columns \n",
    "column_list = df.columns.to_list()\n",
    "# count length of that list\n",
    "column_num = len(df.columns.to_list())"
   ]
  },
  {
   "cell_type": "code",
   "execution_count": 10,
   "id": "569c6cd0",
   "metadata": {},
   "outputs": [
    {
     "data": {
      "text/plain": [
       "['vin',\n",
       " 'stockNum',\n",
       " 'firstSeen',\n",
       " 'lastSeen',\n",
       " 'msrp',\n",
       " 'askPrice',\n",
       " 'mileage',\n",
       " 'isNew',\n",
       " 'color',\n",
       " 'interiorColor',\n",
       " 'brandName',\n",
       " 'modelName',\n",
       " 'dealerID',\n",
       " 'vf_ABS',\n",
       " 'vf_ActiveSafetySysNote',\n",
       " 'vf_AdaptiveCruiseControl',\n",
       " 'vf_AdaptiveDrivingBeam',\n",
       " 'vf_AdaptiveHeadlights',\n",
       " 'vf_AdditionalErrorText',\n",
       " 'vf_AirBagLocCurtain',\n",
       " 'vf_AirBagLocFront',\n",
       " 'vf_AirBagLocKnee',\n",
       " 'vf_AirBagLocSeatCushion',\n",
       " 'vf_AirBagLocSide',\n",
       " 'vf_AutoReverseSystem',\n",
       " 'vf_AutomaticPedestrianAlertingSound',\n",
       " 'vf_AxleConfiguration',\n",
       " 'vf_Axles',\n",
       " 'vf_BasePrice',\n",
       " 'vf_BatteryA',\n",
       " 'vf_BatteryA_to',\n",
       " 'vf_BatteryCells',\n",
       " 'vf_BatteryInfo',\n",
       " 'vf_BatteryKWh',\n",
       " 'vf_BatteryKWh_to',\n",
       " 'vf_BatteryModules',\n",
       " 'vf_BatteryPacks',\n",
       " 'vf_BatteryType',\n",
       " 'vf_BatteryV',\n",
       " 'vf_BatteryV_to',\n",
       " 'vf_BedLengthIN',\n",
       " 'vf_BedType',\n",
       " 'vf_BlindSpotMon',\n",
       " 'vf_BodyCabType',\n",
       " 'vf_BodyClass',\n",
       " 'vf_BrakeSystemDesc',\n",
       " 'vf_BrakeSystemType',\n",
       " 'vf_BusFloorConfigType',\n",
       " 'vf_BusLength',\n",
       " 'vf_BusType',\n",
       " 'vf_CAN_AACN',\n",
       " 'vf_CIB',\n",
       " 'vf_CashForClunkers',\n",
       " 'vf_ChargerLevel',\n",
       " 'vf_ChargerPowerKW',\n",
       " 'vf_CoolingType',\n",
       " 'vf_CurbWeightLB',\n",
       " 'vf_CustomMotorcycleType',\n",
       " 'vf_DaytimeRunningLight',\n",
       " 'vf_DestinationMarket',\n",
       " 'vf_DisplacementCC',\n",
       " 'vf_DisplacementCI',\n",
       " 'vf_DisplacementL',\n",
       " 'vf_Doors',\n",
       " 'vf_DriveType',\n",
       " 'vf_DriverAssist',\n",
       " 'vf_DynamicBrakeSupport',\n",
       " 'vf_EDR',\n",
       " 'vf_ESC',\n",
       " 'vf_EVDriveUnit',\n",
       " 'vf_ElectrificationLevel',\n",
       " 'vf_EngineConfiguration',\n",
       " 'vf_EngineCycles',\n",
       " 'vf_EngineCylinders',\n",
       " 'vf_EngineHP',\n",
       " 'vf_EngineHP_to',\n",
       " 'vf_EngineKW',\n",
       " 'vf_EngineManufacturer',\n",
       " 'vf_EngineModel',\n",
       " 'vf_EntertainmentSystem',\n",
       " 'vf_ForwardCollisionWarning',\n",
       " 'vf_FuelInjectionType',\n",
       " 'vf_FuelTypePrimary',\n",
       " 'vf_FuelTypeSecondary',\n",
       " 'vf_GCWR',\n",
       " 'vf_GCWR_to',\n",
       " 'vf_GVWR',\n",
       " 'vf_GVWR_to',\n",
       " 'vf_KeylessIgnition',\n",
       " 'vf_LaneDepartureWarning',\n",
       " 'vf_LaneKeepSystem',\n",
       " 'vf_LowerBeamHeadlampLightSource',\n",
       " 'vf_Make',\n",
       " 'vf_MakeID',\n",
       " 'vf_Manufacturer',\n",
       " 'vf_ManufacturerId',\n",
       " 'vf_Model',\n",
       " 'vf_ModelID',\n",
       " 'vf_ModelYear',\n",
       " 'vf_MotorcycleChassisType',\n",
       " 'vf_MotorcycleSuspensionType',\n",
       " 'vf_NCSABodyType',\n",
       " 'vf_NCSAMake',\n",
       " 'vf_NCSAMapExcApprovedBy',\n",
       " 'vf_NCSAMapExcApprovedOn',\n",
       " 'vf_NCSAMappingException',\n",
       " 'vf_NCSAModel',\n",
       " 'vf_NCSANote',\n",
       " 'vf_Note',\n",
       " 'vf_OtherBusInfo',\n",
       " 'vf_OtherEngineInfo',\n",
       " 'vf_OtherMotorcycleInfo',\n",
       " 'vf_OtherRestraintSystemInfo',\n",
       " 'vf_OtherTrailerInfo',\n",
       " 'vf_ParkAssist',\n",
       " 'vf_PedestrianAutomaticEmergencyBraking',\n",
       " 'vf_PlantCity',\n",
       " 'vf_PlantCompanyName',\n",
       " 'vf_PlantCountry',\n",
       " 'vf_PlantState',\n",
       " 'vf_PossibleValues',\n",
       " 'vf_Pretensioner',\n",
       " 'vf_RearCrossTrafficAlert',\n",
       " 'vf_RearVisibilitySystem',\n",
       " 'vf_SAEAutomationLevel',\n",
       " 'vf_SAEAutomationLevel_to',\n",
       " 'vf_SeatBeltsAll',\n",
       " 'vf_SeatRows',\n",
       " 'vf_Seats',\n",
       " 'vf_SemiautomaticHeadlampBeamSwitching',\n",
       " 'vf_Series',\n",
       " 'vf_Series2',\n",
       " 'vf_SteeringLocation',\n",
       " 'vf_SuggestedVIN',\n",
       " 'vf_TPMS',\n",
       " 'vf_TopSpeedMPH',\n",
       " 'vf_TrackWidth',\n",
       " 'vf_TractionControl',\n",
       " 'vf_TrailerBodyType',\n",
       " 'vf_TrailerLength',\n",
       " 'vf_TrailerType',\n",
       " 'vf_TransmissionSpeeds',\n",
       " 'vf_TransmissionStyle',\n",
       " 'vf_Trim',\n",
       " 'vf_Trim2',\n",
       " 'vf_Turbo',\n",
       " 'vf_VIN',\n",
       " 'vf_ValveTrainDesign',\n",
       " 'vf_VehicleType',\n",
       " 'vf_WheelBaseLong',\n",
       " 'vf_WheelBaseShort',\n",
       " 'vf_WheelBaseType',\n",
       " 'vf_WheelSizeFront',\n",
       " 'vf_WheelSizeRear',\n",
       " 'vf_Wheels',\n",
       " 'vf_Windows']"
      ]
     },
     "execution_count": 10,
     "metadata": {},
     "output_type": "execute_result"
    }
   ],
   "source": [
    "column_list"
   ]
  },
  {
   "cell_type": "code",
   "execution_count": 11,
   "id": "6268cf53",
   "metadata": {},
   "outputs": [
    {
     "data": {
      "text/plain": [
       "vin                  5695015\n",
       "stockNum             3744318\n",
       "firstSeen            5695015\n",
       "lastSeen             5695015\n",
       "msrp                 5695015\n",
       "                      ...   \n",
       "vf_WheelBaseType      179907\n",
       "vf_WheelSizeFront    1730210\n",
       "vf_WheelSizeRear     1729777\n",
       "vf_Wheels            2188123\n",
       "vf_Windows            337130\n",
       "Length: 156, dtype: int64"
      ]
     },
     "execution_count": 11,
     "metadata": {},
     "output_type": "execute_result"
    }
   ],
   "source": [
    "# # this one takes a min\n",
    "\n",
    "# df.count()"
   ]
  },
  {
   "cell_type": "markdown",
   "id": "d17e9e14",
   "metadata": {},
   "source": [
    "## Begin taking samples"
   ]
  },
  {
   "cell_type": "code",
   "execution_count": null,
   "id": "57600b0b",
   "metadata": {},
   "outputs": [],
   "source": [
    "# These samples can be reproduced so long as the random_state argument matches the sample number\n",
    "#for the first set --> sample_df01 = random_state=1, and so on\n",
    "\n",
    "\n",
    "# I broke up the sample maker functions to prevent slamming a computer's processor."
   ]
  },
  {
   "cell_type": "code",
   "execution_count": 12,
   "id": "f73e0297",
   "metadata": {},
   "outputs": [],
   "source": [
    "# sample_df_01= df.sample(n=10000, random_state=1)"
   ]
  },
  {
   "cell_type": "code",
   "execution_count": 13,
   "id": "4704a0f4",
   "metadata": {},
   "outputs": [],
   "source": [
    "# sample_df_02= df.sample(n=10000, random_state=2)"
   ]
  },
  {
   "cell_type": "code",
   "execution_count": 14,
   "id": "7987c38d",
   "metadata": {},
   "outputs": [],
   "source": [
    "# sample_df_03= df.sample(n=10000, random_state=3)"
   ]
  },
  {
   "cell_type": "code",
   "execution_count": 15,
   "id": "f2602b2c",
   "metadata": {},
   "outputs": [],
   "source": [
    "# sample_df_04= df.sample(n=10000, random_state=4)"
   ]
  },
  {
   "cell_type": "code",
   "execution_count": 16,
   "id": "023e7579",
   "metadata": {},
   "outputs": [],
   "source": [
    "# sample_df_test= df.sample(n=2500, random_state=5)"
   ]
  },
  {
   "cell_type": "code",
   "execution_count": 17,
   "id": "0407e79e",
   "metadata": {},
   "outputs": [],
   "source": [
    "# sample_df_01.to_csv(output01)\n",
    "# sample_df_02.to_csv(output02)\n",
    "# sample_df_03.to_csv(output03)\n",
    "# sample_df_04.to_csv(output04)\n",
    "# sample_df_test.to_csv(output05)"
   ]
  },
  {
   "cell_type": "code",
   "execution_count": null,
   "id": "1afc82f8",
   "metadata": {},
   "outputs": [],
   "source": []
  }
 ],
 "metadata": {
  "kernelspec": {
   "display_name": "Python 3",
   "language": "python",
   "name": "python3"
  },
  "language_info": {
   "codemirror_mode": {
    "name": "ipython",
    "version": 3
   },
   "file_extension": ".py",
   "mimetype": "text/x-python",
   "name": "python",
   "nbconvert_exporter": "python",
   "pygments_lexer": "ipython3",
   "version": "3.8.8"
  }
 },
 "nbformat": 4,
 "nbformat_minor": 5
}
