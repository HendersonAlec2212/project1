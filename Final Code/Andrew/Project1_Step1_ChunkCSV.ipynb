{
 "cells": [
  {
   "cell_type": "code",
   "execution_count": null,
   "id": "af17b0d4",
   "metadata": {},
   "outputs": [],
   "source": [
    "## Chunk Size CSV Splitting Code\n",
    "\n",
    "import pandas as pd\n",
    "\n",
    "chunk_size = 500000\n",
    "batch_no = 1\n",
    "\n",
    "for chunk in pd.read_csv('SMU_DATA\\csv\\CIS_Automotive_Kaggle_Sample.csv', chunksize=chunk_size):\n",
    "    chunk.to_csv('SMU_DATA\\csv\\CIS_Data'+str(batch_no)+'.csv', index=False)\n",
    "    batch_no+=1\n",
    "    "
   ]
  }
 ],
 "metadata": {
  "kernelspec": {
   "display_name": "Python 3",
   "language": "python",
   "name": "python3"
  },
  "language_info": {
   "codemirror_mode": {
    "name": "ipython",
    "version": 3
   },
   "file_extension": ".py",
   "mimetype": "text/x-python",
   "name": "python",
   "nbconvert_exporter": "python",
   "pygments_lexer": "ipython3",
   "version": "3.8.8"
  }
 },
 "nbformat": 4,
 "nbformat_minor": 5
}
