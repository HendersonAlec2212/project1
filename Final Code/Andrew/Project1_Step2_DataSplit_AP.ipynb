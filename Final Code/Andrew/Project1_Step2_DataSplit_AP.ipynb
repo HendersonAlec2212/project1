{
 "cells": [
  {
   "cell_type": "markdown",
   "id": "3e22134a",
   "metadata": {},
   "source": [
    "# Illinois PickUp Truck Analysis: 2018-2020"
   ]
  },
  {
   "cell_type": "code",
   "execution_count": 126,
   "id": "5292f66f",
   "metadata": {},
   "outputs": [],
   "source": [
    "# Dependencies and Setup\n",
    "import matplotlib.pyplot as plt\n",
    "import pandas as pd\n",
    "import numpy as np\n",
    "import requests\n",
    "import time\n",
    "from sklearn.model_selection import train_test_split\n",
    "from sklearn.linear_model import LinearRegression\n",
    "from sklearn.metrics import r2_score"
   ]
  },
  {
   "cell_type": "markdown",
   "id": "fbbe9d4f",
   "metadata": {},
   "source": [
    "## Column List Items to Keep\n",
    "\n",
    "msrp\n",
    "askPrice\n",
    "mileage\n",
    "isNew\n",
    "color\n",
    "interiorColor\n",
    "brandName\n",
    "modelName\n",
    "vf_BasePrice\n",
    "vf_BodyCabType\n",
    "vf_BodyClass (Pickup)\n",
    "vf_Doors\n",
    "vf_EngineCylinders\n",
    "vf_EngineHP\n",
    "vf_FuelTypePrimary\n",
    "vf_FuelTypeSecondary\n",
    "vf_Make\n",
    "vf_Manufacturer\n",
    "vf_Model\n",
    "vf_ModelID\n",
    "vf_ModelYear\n",
    "vf_Series\n",
    "vf_Series2\n",
    "vf_SteeringLocation\n",
    "vf_TransmissionStyle\n",
    "vf_Trim\n",
    "vf_Trim2\n",
    "vf_Turbo\n",
    "vf_VehicleType(TRUCK)\n"
   ]
  },
  {
   "cell_type": "markdown",
   "id": "ce3b441a",
   "metadata": {},
   "source": [
    "## Order of Columns\n",
    "\n",
    "vf_VehicleType(TRUCK)\n",
    "vf_BodyClass (Pickup)\n",
    "brandName\n",
    "vf_Manufacturer\n",
    "vf_Make\n",
    "modelName\n",
    "vf_Model\n",
    "vf_ModelID\n",
    "vf_ModelYear\n",
    "isNew\n",
    "mileage\n",
    "msrp\n",
    "vf_BasePrice\n",
    "askPrice\n",
    "color\n",
    "interiorColor\n",
    "vf_BodyCabType\n",
    "vf_Doors\n",
    "vf_EngineCylinders\n",
    "vf_EngineHP\n",
    "vf_FuelTypePrimary\n",
    "vf_FuelTypeSecondary\n",
    "vf_Series\n",
    "vf_Series2\n",
    "vf_SteeringLocation\n",
    "vf_TransmissionStyle\n",
    "vf_Trim\n",
    "vf_Trim2\n",
    "vf_Turbo\n"
   ]
  },
  {
   "cell_type": "code",
   "execution_count": 127,
   "id": "a12dc8e2",
   "metadata": {},
   "outputs": [
    {
     "name": "stdout",
     "output_type": "stream",
     "text": [
      "Proccessing File 1 of 12\n"
     ]
    },
    {
     "name": "stderr",
     "output_type": "stream",
     "text": [
      "C:\\Users\\drewp\\anaconda3\\lib\\site-packages\\IPython\\core\\interactiveshell.py:3165: DtypeWarning: Columns (1,8,9,17,22,25,26,32,37,53,65,67,69,70,91,93,107,111,114,120,122) have mixed types.Specify dtype option on import or set low_memory=False.\n",
      "  has_raised = await self.run_ast_nodes(code_ast.body, cell_name,\n"
     ]
    },
    {
     "name": "stdout",
     "output_type": "stream",
     "text": [
      "Task 1 of 12 Completed. 14170 Records Were Saved\n",
      "Proccessing File 2 of 12\n"
     ]
    },
    {
     "name": "stderr",
     "output_type": "stream",
     "text": [
      "C:\\Users\\drewp\\anaconda3\\lib\\site-packages\\IPython\\core\\interactiveshell.py:3165: DtypeWarning: Columns (1,8,9,17,25,26,32,37,45,53,65,67,69,70,91,93,107,111,114,120,122,151) have mixed types.Specify dtype option on import or set low_memory=False.\n",
      "  has_raised = await self.run_ast_nodes(code_ast.body, cell_name,\n"
     ]
    },
    {
     "name": "stdout",
     "output_type": "stream",
     "text": [
      "Task 2 of 12 Completed. 23314 Records Were Saved\n",
      "Proccessing File 3 of 12\n"
     ]
    },
    {
     "name": "stderr",
     "output_type": "stream",
     "text": [
      "C:\\Users\\drewp\\anaconda3\\lib\\site-packages\\IPython\\core\\interactiveshell.py:3165: DtypeWarning: Columns (1,8,9,17,18,22,26,32,37,53,65,67,69,91,93,107,111,120,122,133) have mixed types.Specify dtype option on import or set low_memory=False.\n",
      "  has_raised = await self.run_ast_nodes(code_ast.body, cell_name,\n"
     ]
    },
    {
     "name": "stdout",
     "output_type": "stream",
     "text": [
      "Task 3 of 12 Completed. 15544 Records Were Saved\n",
      "Proccessing File 4 of 12\n"
     ]
    },
    {
     "name": "stderr",
     "output_type": "stream",
     "text": [
      "C:\\Users\\drewp\\anaconda3\\lib\\site-packages\\IPython\\core\\interactiveshell.py:3165: DtypeWarning: Columns (1,8,9,17,18,26,32,37,53,65,67,69,79,91,93,107,111,120,122,133) have mixed types.Specify dtype option on import or set low_memory=False.\n",
      "  has_raised = await self.run_ast_nodes(code_ast.body, cell_name,\n"
     ]
    },
    {
     "name": "stdout",
     "output_type": "stream",
     "text": [
      "Task 4 of 12 Completed. 26658 Records Were Saved\n",
      "Proccessing File 5 of 12\n"
     ]
    },
    {
     "name": "stderr",
     "output_type": "stream",
     "text": [
      "C:\\Users\\drewp\\anaconda3\\lib\\site-packages\\IPython\\core\\interactiveshell.py:3165: DtypeWarning: Columns (1,8,9,17,25,26,32,37,53,65,69,91,107,111,120,122) have mixed types.Specify dtype option on import or set low_memory=False.\n",
      "  has_raised = await self.run_ast_nodes(code_ast.body, cell_name,\n"
     ]
    },
    {
     "name": "stdout",
     "output_type": "stream",
     "text": [
      "Task 5 of 12 Completed. 15686 Records Were Saved\n",
      "Proccessing File 6 of 12\n"
     ]
    },
    {
     "name": "stderr",
     "output_type": "stream",
     "text": [
      "C:\\Users\\drewp\\anaconda3\\lib\\site-packages\\IPython\\core\\interactiveshell.py:3165: DtypeWarning: Columns (9,17,18,26,32,37,53,65,67,69,79,91,93,107,111,120,122,133) have mixed types.Specify dtype option on import or set low_memory=False.\n",
      "  has_raised = await self.run_ast_nodes(code_ast.body, cell_name,\n"
     ]
    },
    {
     "name": "stdout",
     "output_type": "stream",
     "text": [
      "Task 6 of 12 Completed. 16934 Records Were Saved\n",
      "Proccessing File 7 of 12\n"
     ]
    },
    {
     "name": "stderr",
     "output_type": "stream",
     "text": [
      "C:\\Users\\drewp\\anaconda3\\lib\\site-packages\\IPython\\core\\interactiveshell.py:3165: DtypeWarning: Columns (1,8,9,17,26,32,37,53,65,67,69,91,107,111,120,122) have mixed types.Specify dtype option on import or set low_memory=False.\n",
      "  has_raised = await self.run_ast_nodes(code_ast.body, cell_name,\n"
     ]
    },
    {
     "name": "stdout",
     "output_type": "stream",
     "text": [
      "Task 7 of 12 Completed. 20629 Records Were Saved\n",
      "Proccessing File 8 of 12\n"
     ]
    },
    {
     "name": "stderr",
     "output_type": "stream",
     "text": [
      "C:\\Users\\drewp\\anaconda3\\lib\\site-packages\\IPython\\core\\interactiveshell.py:3165: DtypeWarning: Columns (1,8,9,17,18,26,32,37,45,53,65,67,69,91,93,107,111,113,120,122,133) have mixed types.Specify dtype option on import or set low_memory=False.\n",
      "  has_raised = await self.run_ast_nodes(code_ast.body, cell_name,\n"
     ]
    },
    {
     "name": "stdout",
     "output_type": "stream",
     "text": [
      "Task 8 of 12 Completed. 14636 Records Were Saved\n",
      "Proccessing File 9 of 12\n"
     ]
    },
    {
     "name": "stderr",
     "output_type": "stream",
     "text": [
      "C:\\Users\\drewp\\anaconda3\\lib\\site-packages\\IPython\\core\\interactiveshell.py:3165: DtypeWarning: Columns (1,8,9,17,22,26,32,37,45,53,65,67,69,91,93,107,111,120,122,144) have mixed types.Specify dtype option on import or set low_memory=False.\n",
      "  has_raised = await self.run_ast_nodes(code_ast.body, cell_name,\n"
     ]
    },
    {
     "name": "stdout",
     "output_type": "stream",
     "text": [
      "Task 9 of 12 Completed. 11338 Records Were Saved\n",
      "Proccessing File 10 of 12\n"
     ]
    },
    {
     "name": "stderr",
     "output_type": "stream",
     "text": [
      "C:\\Users\\drewp\\anaconda3\\lib\\site-packages\\IPython\\core\\interactiveshell.py:3165: DtypeWarning: Columns (8,9,17,25,26,32,37,45,53,65,67,69,79,91,107,111,120,122,144) have mixed types.Specify dtype option on import or set low_memory=False.\n",
      "  has_raised = await self.run_ast_nodes(code_ast.body, cell_name,\n"
     ]
    },
    {
     "name": "stdout",
     "output_type": "stream",
     "text": [
      "Task 10 of 12 Completed. 20489 Records Were Saved\n",
      "Proccessing File 11 of 12\n"
     ]
    },
    {
     "name": "stderr",
     "output_type": "stream",
     "text": [
      "C:\\Users\\drewp\\anaconda3\\lib\\site-packages\\IPython\\core\\interactiveshell.py:3165: DtypeWarning: Columns (1,8,9,17,18,25,26,32,37,53,65,67,69,79,91,107,111,113,120,122,133,144) have mixed types.Specify dtype option on import or set low_memory=False.\n",
      "  has_raised = await self.run_ast_nodes(code_ast.body, cell_name,\n"
     ]
    },
    {
     "name": "stdout",
     "output_type": "stream",
     "text": [
      "Task 11 of 12 Completed. 20194 Records Were Saved\n",
      "Proccessing File 12 of 12\n"
     ]
    },
    {
     "name": "stderr",
     "output_type": "stream",
     "text": [
      "C:\\Users\\drewp\\anaconda3\\lib\\site-packages\\IPython\\core\\interactiveshell.py:3165: DtypeWarning: Columns (17,26,32,37,53,65,67,69,91,111,113,122) have mixed types.Specify dtype option on import or set low_memory=False.\n",
      "  has_raised = await self.run_ast_nodes(code_ast.body, cell_name,\n"
     ]
    },
    {
     "name": "stdout",
     "output_type": "stream",
     "text": [
      "Task 12 of 12 Completed. 17216 Records Were Saved\n"
     ]
    }
   ],
   "source": [
    "cols_to_keep =['vf_BodyClass',\n",
    "               'brandName',\n",
    "               'vf_Make',\n",
    "               'modelName',\n",
    "               'vf_Model',\n",
    "               'vf_ModelID',\n",
    "               'vf_ModelYear',\n",
    "               'mileage',\n",
    "               'askPrice',\n",
    "               'msrp',\n",
    "               'vf_BasePrice',\n",
    "               'askPrice',\n",
    "               'color',\n",
    "               'interiorColor',\n",
    "               'vf_BodyCabType',\n",
    "               'vf_Doors',\n",
    "               'vf_EngineCylinders',\n",
    "               'vf_EngineHP',\n",
    "               'vf_FuelTypePrimary',\n",
    "               'vf_FuelTypeSecondary',\n",
    "               'vf_Series',\n",
    "               'vf_Series2',\n",
    "               'vf_SteeringLocation',\n",
    "               'vf_TransmissionStyle',\n",
    "               'vf_Trim',\n",
    "               'vf_Trim2',\n",
    "               'vf_Turbo',\n",
    "               'vin'\n",
    "               ]\n",
    "\n",
    "for x in range(1,13):\n",
    "    print('Proccessing File '+str(x)+' of 12')\n",
    "    file_in = 'SMU_DATA\\csv\\CIS_Data'+str(x)+'.csv'\n",
    "    file_out = 'SMU_DATA\\csv\\Pickup_Data'+str(x)+'.csv'\n",
    "    df1 = pd.read_csv(file_in)\n",
    "    df2 = df1.loc[:,cols_to_keep]\n",
    "    df3 = df2.loc[(df2['vf_BodyClass']=='Pickup')&(df2['mileage']>=1000)]\n",
    "    df3.to_csv(file_out,index=False,header=True)\n",
    "    print('Task '+str(x)+' of 12 Completed. '+str(len(df3['vin']))+' Records Were Saved')\n",
    "    "
   ]
  },
  {
   "cell_type": "code",
   "execution_count": 132,
   "id": "49c31713",
   "metadata": {},
   "outputs": [],
   "source": [
    "file = 'SMU_DATA\\csv\\Pickup_Data1.csv'\n",
    "df1 = pd.read_csv(file)\n",
    "\n",
    "file = 'SMU_DATA\\csv\\Pickup_Data2.csv'\n",
    "df2 = pd.read_csv(file)\n",
    "\n",
    "file = 'SMU_DATA\\csv\\Pickup_Data3.csv'\n",
    "df3 = pd.read_csv(file)\n",
    "\n",
    "file = 'SMU_DATA\\csv\\Pickup_Data4.csv'\n",
    "df4 = pd.read_csv(file)\n",
    "\n",
    "file = 'SMU_DATA\\csv\\Pickup_Data5.csv'\n",
    "df5 = pd.read_csv(file)\n",
    "\n",
    "file = 'SMU_DATA\\csv\\Pickup_Data6.csv'\n",
    "df6 = pd.read_csv(file)\n",
    "\n",
    "file = 'SMU_DATA\\csv\\Pickup_Data7.csv'\n",
    "df7 = pd.read_csv(file)\n",
    "\n",
    "file = 'SMU_DATA\\csv\\Pickup_Data8.csv'\n",
    "df8 = pd.read_csv(file)\n",
    "\n",
    "file = 'SMU_DATA\\csv\\Pickup_Data9.csv'\n",
    "df9 = pd.read_csv(file)\n",
    "\n",
    "file = 'SMU_DATA\\csv\\Pickup_Data10.csv'\n",
    "df10 = pd.read_csv(file)\n",
    "\n",
    "file = 'SMU_DATA\\csv\\Pickup_Data11.csv'\n",
    "df11 = pd.read_csv(file)\n",
    "\n",
    "file = 'SMU_DATA\\csv\\Pickup_Data12.csv'\n",
    "df12 = pd.read_csv(file)"
   ]
  },
  {
   "cell_type": "code",
   "execution_count": 136,
   "id": "47da7f1b",
   "metadata": {},
   "outputs": [],
   "source": [
    "frames = [df1, df2, df3, df4, df5, df6, df7, df8, df9, df10, df11, df12]\n",
    "concat_df = pd.concat(frames)\n",
    "file_out = 'SMU_DATA\\csv\\Pickup_Data_Tot.csv'\n",
    "concat_df.to_csv(file_out,index=False,header=True)\n"
   ]
  },
  {
   "cell_type": "code",
   "execution_count": null,
   "id": "972531b2",
   "metadata": {},
   "outputs": [],
   "source": []
  },
  {
   "cell_type": "code",
   "execution_count": null,
   "id": "d5082d1c",
   "metadata": {},
   "outputs": [],
   "source": []
  }
 ],
 "metadata": {
  "kernelspec": {
   "display_name": "Python 3",
   "language": "python",
   "name": "python3"
  },
  "language_info": {
   "codemirror_mode": {
    "name": "ipython",
    "version": 3
   },
   "file_extension": ".py",
   "mimetype": "text/x-python",
   "name": "python",
   "nbconvert_exporter": "python",
   "pygments_lexer": "ipython3",
   "version": "3.8.8"
  }
 },
 "nbformat": 4,
 "nbformat_minor": 5
}
